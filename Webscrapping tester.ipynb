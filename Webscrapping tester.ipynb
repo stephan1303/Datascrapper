{
 "cells": [
  {
   "cell_type": "code",
   "execution_count": 4,
   "id": "35bbff2e",
   "metadata": {},
   "outputs": [],
   "source": [
    "import requests\n",
    "from bs4 import BeautifulSoup\n",
    "from csv import writer"
   ]
  },
  {
   "cell_type": "code",
   "execution_count": 20,
   "id": "3a39fdaf",
   "metadata": {},
   "outputs": [
    {
     "name": "stdout",
     "output_type": "stream",
     "text": [
      "\n",
      "\n",
      "\n",
      "\n",
      "Cantarell Brasserie Amsterdam\n",
      "\n",
      "\n",
      "\n",
      "\n",
      "\n",
      "\n",
      "  \n",
      "\n",
      "  Menu   Home Menu Catering Vacature Contact Inloggen voor bedrijven Home Menu Catering Vacature Contact   Cantarell Brasserie in Amsterdam\n",
      "Welkom op onze website!\n",
      "Cantarell Brasserie is kwaliteitsgericht eetcafé, lunchroom en snackbar. Dit gelegen op het Weesperplein, tussen de Sarphatistraat en de Nieuwe Achtergracht in hartje Amsterdam. Bij ons geniet je in ontspannen sfeer op elk moment van de dag van een lunch, diner of een broodje tussendoor. Weinig poespas, snel én lekker. \n",
      "Naast een uitgebreide lunchmenukaart, maaltijden serveren wij ook een uitgebreid assortiment aan snacks.\n",
      " \n",
      "Reserveren graag telefonisch: 020 330 7973\n",
      " \n",
      "U kunt alle gerechten afhalen! \n",
      " \n",
      "Wij bezorgen ook: https://www.thuisbezorgd.nl/cantarell      \n",
      "   \n",
      " \n",
      "Ook verzorgen wij volledige bedrijfscatering op maat, alles is mogelijk. Informeer eens naar de mogelijkheden, wij denken graag met je mee.\n",
      "Service en kwaliteit staan bij ons hoog in het vaandel. Wij nodigen je van harte uit op Weesperplein 15 om dit zelf te ervaren.\n",
      "   \n",
      "\n",
      "\n",
      "\n",
      "\n",
      " \n",
      " \n",
      "\n",
      "\n",
      "\n",
      " \n",
      " \n",
      "\n",
      "\n",
      "\n",
      " \n",
      " \n",
      "\n",
      "\n",
      "\n",
      " \n",
      " \n",
      "\n",
      "\n",
      "\n",
      " \n",
      " \n",
      "\n",
      "\n",
      "\n",
      " \n",
      " \n",
      "\n",
      "\n",
      "\n",
      "   © Cafetaria Brasserie Cantarell - 2013 - 2023Weesperplein 13-15, 1018 WZ AmsterdamVragen? Bel ons gerust:020 330 7973 Cafetaria Brasserie Cantarell - Weesperplein 13-15, 1018 WZ Amsterdam - 020 330 7973 Webdesign: Soneritics Webdevelopment \n",
      " \n",
      "\n"
     ]
    }
   ],
   "source": [
    "url = 'https://www.cantarell.nl'\n",
    "request = requests.get(url)\n",
    "soup = BeautifulSoup(request.text, 'html.parser')\n",
    "text = soup.get_text()\n",
    "print(text)"
   ]
  },
  {
   "cell_type": "code",
   "execution_count": 36,
   "id": "8816ab94",
   "metadata": {},
   "outputs": [
    {
     "name": "stdout",
     "output_type": "stream",
     "text": [
      "https://www.cantarell.nl<a href=\"/assortiment/\" id=\"a_menu\" title=\"Menu\">Menu</a>\n",
      "https://www.cantarell.nl<a href=\"/assortiment/\" id=\"a_menu\" title=\"Menu\">Menu</a><a href=\"/assortiment/\" id=\"a_menu\" title=\"Menu\">Menu</a>\n"
     ]
    }
   ],
   "source": [
    "links = soup.find_all('a')\n",
    "url2 = url\n",
    "for link in links:\n",
    "#     print(link.get('href'))\n",
    "    if link.get('href') == \"/assortiment/\" or link.get('href') == \"menu\":\n",
    "        url2 += str(link)\n",
    "        print(url2)\n",
    "#     print(link.get('href'))\n",
    "    \n"
   ]
  }
 ],
 "metadata": {
  "kernelspec": {
   "display_name": "Python 3 (ipykernel)",
   "language": "python",
   "name": "python3"
  },
  "language_info": {
   "codemirror_mode": {
    "name": "ipython",
    "version": 3
   },
   "file_extension": ".py",
   "mimetype": "text/x-python",
   "name": "python",
   "nbconvert_exporter": "python",
   "pygments_lexer": "ipython3",
   "version": "3.9.7"
  }
 },
 "nbformat": 4,
 "nbformat_minor": 5
}
